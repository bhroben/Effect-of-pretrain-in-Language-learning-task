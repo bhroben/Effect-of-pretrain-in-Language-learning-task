{
 "cells": [
  {
   "cell_type": "markdown",
   "id": "e5da897d-2827-46c7-b19b-03a20b4cc85d",
   "metadata": {},
   "source": [
    "## SVC "
   ]
  },
  {
   "cell_type": "code",
   "execution_count": 37,
   "id": "6f0df79c-d117-47e9-9d39-f19ddac9073f",
   "metadata": {},
   "outputs": [],
   "source": [
    "from sklearn.datasets import load_iris\n",
    "from sklearn.svm import SVC\n",
    "import pandas as pd\n",
    "import numpy as np\n",
    "from sklearn.model_selection import train_test_split\n",
    "from sklearn import metrics"
   ]
  },
  {
   "cell_type": "markdown",
   "source": [
    "### introduction"
   ],
   "metadata": {
    "collapsed": false
   }
  },
  {
   "cell_type": "markdown",
   "source": [
    "In this notebook i explore the last hidden state and cell state of the many to many LSTM that has been pretrained with different conditions:\n",
    "\n",
    "- 0 no pretrain -> train with spanish\n",
    "- 1 pretrain with spanish -> train with spanish\n",
    "- 2 pretrain with japanese -> train with spanish\n",
    "- 3 pretrain with italian -> train with spanish\n",
    "\n",
    "The aim is to see the effect of different pretrainings in the \"latent\" space by using a linear SVC. In particular by seeing if there is a possible hyperplane that could linearly separate spanish vs other languages.\n",
    "\n",
    "The dataset is created from the many to many LSTM by pretraining and training the model with the conditions above, then i pass to the model a total of 1500 samples of ita/spa/jap spectrograms in equal size and collect the cell and last hidden states.\n",
    "\n"
   ],
   "metadata": {
    "collapsed": false
   }
  },
  {
   "cell_type": "markdown",
   "id": "b3c853f3-457c-4912-ae8a-090a4c1174b1",
   "metadata": {},
   "source": [
    "## 0 - No pretrain "
   ]
  },
  {
   "cell_type": "markdown",
   "id": "195a60bc-da77-4e33-8dfe-78c4b136f4f2",
   "metadata": {},
   "source": [
    "### cell"
   ]
  },
  {
   "cell_type": "code",
   "execution_count": 60,
   "id": "c7eae973-0695-4701-b052-6f6ebdc19344",
   "metadata": {},
   "outputs": [],
   "source": [
    "df1=pd.read_csv('metrics/nopretrain/cell_ita_with_no_pretrain.csv',index_col=0)\n",
    "df1['label']=0\n",
    "\n",
    "df2=pd.read_csv('metrics/nopretrain/cell_jap_with_no_pretrain.csv',index_col=0)\n",
    "df2['label']=0\n",
    "\n",
    "df3=pd.read_csv('metrics/nopretrain/cell_spa_with_no_pretrain.csv',index_col=0)\n",
    "df3['label']=1\n",
    "\n",
    "df_cell=pd.concat([df1,df2,df3])\n",
    "\n",
    "X = df_cell.drop(['label'], axis=1)\n",
    "y = df_cell['label']"
   ]
  },
  {
   "cell_type": "code",
   "execution_count": 61,
   "id": "bbd687ac-c71b-4c48-902c-4c1d3ec12d03",
   "metadata": {},
   "outputs": [
    {
     "name": "stdout",
     "output_type": "stream",
     "text": [
      "Accuracy: 0.6062846580406654\n"
     ]
    }
   ],
   "source": [
    "X_train, X_test, y_train, y_test = train_test_split(X, y, test_size=0.33, random_state=42)\n",
    "cls = SVC()\n",
    "cls.fit(X_train, y_train)\n",
    "y_pred = cls.predict(X_test)\n",
    "print(\"Accuracy:\",metrics.accuracy_score(y_test, y_pred))\n"
   ]
  },
  {
   "cell_type": "markdown",
   "id": "e5e3576a-e768-4c08-95c2-448363e79a33",
   "metadata": {},
   "source": [
    "### hidden"
   ]
  },
  {
   "cell_type": "code",
   "execution_count": 62,
   "id": "b3c3d598-385d-4d5e-ad7e-363f9e500a9c",
   "metadata": {},
   "outputs": [],
   "source": [
    "df1=pd.read_csv('metrics/nopretrain/hidd_ita_with_no_pretrain.csv',index_col=0)\n",
    "df1['label']=0\n",
    "\n",
    "df2=pd.read_csv('metrics/nopretrain/hidd_jap_with_no_pretrain.csv',index_col=0)\n",
    "df2['label']=0\n",
    "\n",
    "df3=pd.read_csv('metrics/nopretrain/hidd_spa_with_no_pretrain.csv',index_col=0)\n",
    "df3['label']=1\n",
    "\n",
    "df_cell=pd.concat([df1,df2,df3])\n",
    "\n",
    "X = df_cell.drop(['label'], axis=1)\n",
    "y = df_cell['label']"
   ]
  },
  {
   "cell_type": "code",
   "execution_count": 63,
   "id": "fb7a5ecb-3e77-4992-af1a-5132189e1860",
   "metadata": {},
   "outputs": [
    {
     "name": "stdout",
     "output_type": "stream",
     "text": [
      "Accuracy: 0.609981515711645\n"
     ]
    }
   ],
   "source": [
    "X_train, X_test, y_train, y_test = train_test_split(X, y, test_size=0.33, random_state=42)\n",
    "cls = SVC()\n",
    "cls.fit(X_train, y_train)\n",
    "y_pred = cls.predict(X_test)\n",
    "print(\"Accuracy:\",metrics.accuracy_score(y_test, y_pred))\n"
   ]
  },
  {
   "cell_type": "markdown",
   "id": "dd08c923-5c5a-4b41-b8d3-34fb4c874c7a",
   "metadata": {},
   "source": [
    "## 1 - Spanish "
   ]
  },
  {
   "cell_type": "markdown",
   "id": "0aac8d08-6c13-4153-a6ff-16fac18a2f55",
   "metadata": {},
   "source": [
    "### cell   with spa pretrain"
   ]
  },
  {
   "cell_type": "code",
   "execution_count": 47,
   "id": "3b4ef6dc-e318-447c-8a25-b802f6b655fe",
   "metadata": {},
   "outputs": [],
   "source": [
    "df1=pd.read_csv('metrics/spanish_pretrain/cell_ita_with_spa_pretrain.csv',index_col=0)\n",
    "df1['label']=0\n",
    "\n",
    "df2=pd.read_csv('metrics/spanish_pretrain/cell_jap_with_spa_pretrain.csv',index_col=0)\n",
    "df2['label']=0\n",
    "\n",
    "df3=pd.read_csv('metrics/spanish_pretrain/cell_spa_with_spa_pretrain.csv',index_col=0)\n",
    "df3['label']=1\n",
    "\n",
    "df_cell=pd.concat([df1,df2,df3])\n",
    "\n",
    "X = df_cell.drop(['label'], axis=1)\n",
    "y = df_cell['label']"
   ]
  },
  {
   "cell_type": "code",
   "execution_count": 48,
   "id": "d5645b99-f31a-4998-a3a9-13bd8cfb0672",
   "metadata": {},
   "outputs": [
    {
     "name": "stdout",
     "output_type": "stream",
     "text": [
      "Accuracy: 0.6288461538461538\n"
     ]
    }
   ],
   "source": [
    "X_train, X_test, y_train, y_test = train_test_split(X, y, test_size=0.33, random_state=42)\n",
    "cls = SVC()\n",
    "cls.fit(X_train, y_train)\n",
    "y_pred = cls.predict(X_test)\n",
    "print(\"Accuracy:\",metrics.accuracy_score(y_test, y_pred))\n"
   ]
  },
  {
   "cell_type": "markdown",
   "id": "87ec1883-75d7-46ed-b221-bc2e83ff43df",
   "metadata": {},
   "source": [
    "###  hidden  with spa pretrain"
   ]
  },
  {
   "cell_type": "code",
   "execution_count": 45,
   "id": "7433156c-b3a1-49a5-82a2-8979668f1e6a",
   "metadata": {},
   "outputs": [],
   "source": [
    "df1=pd.read_csv('metrics/spanish_pretrain/hidd_ita_with_spa_pretrain.csv',index_col=0)\n",
    "df1['label']=0\n",
    "\n",
    "df2=pd.read_csv('metrics/spanish_pretrain/hidd_jap_with_spa_pretrain.csv',index_col=0)\n",
    "df2['label']=0\n",
    "\n",
    "df3=pd.read_csv('metrics/spanish_pretrain/hidd_spa_with_spa_pretrain.csv',index_col=0)\n",
    "df3['label']=1\n",
    "\n",
    "df_cell=pd.concat([df1,df2,df3])\n",
    "\n",
    "X = df_cell.drop(['label'], axis=1)\n",
    "y = df_cell['label']"
   ]
  },
  {
   "cell_type": "code",
   "execution_count": 46,
   "id": "04bbc600-c7eb-4ce9-b106-cd3305d5f9ab",
   "metadata": {},
   "outputs": [
    {
     "name": "stdout",
     "output_type": "stream",
     "text": [
      "Accuracy: 0.6326923076923077\n"
     ]
    }
   ],
   "source": [
    "X_train, X_test, y_train, y_test = train_test_split(X, y, test_size=0.33, random_state=42)\n",
    "cls = SVC()\n",
    "cls.fit(X_train, y_train)\n",
    "y_pred = cls.predict(X_test)\n",
    "print(\"Accuracy:\",metrics.accuracy_score(y_test, y_pred))\n"
   ]
  },
  {
   "cell_type": "markdown",
   "id": "76077fe1-7bc4-421c-9254-1c5d95570c44",
   "metadata": {},
   "source": [
    "## 2 - jap"
   ]
  },
  {
   "cell_type": "markdown",
   "id": "76c17250-5155-4afa-9b54-41f623bd5496",
   "metadata": {},
   "source": [
    "###  cell  with jap pretrain"
   ]
  },
  {
   "cell_type": "code",
   "execution_count": 50,
   "id": "8711ff88-c237-45e2-a251-03b564cd6a3b",
   "metadata": {},
   "outputs": [],
   "source": [
    "df1=pd.read_csv('metrics/jap_pretrain/cell_ita_with_jap_pretrain.csv',index_col=0)\n",
    "df1['label']=0\n",
    "\n",
    "df2=pd.read_csv('metrics/jap_pretrain/cell_jap_with_jap_pretrain.csv',index_col=0)\n",
    "df2['label']=0\n",
    "\n",
    "df3=pd.read_csv('metrics/jap_pretrain/cell_spa_with_jap_pretrain.csv',index_col=0)\n",
    "df3['label']=1\n",
    "\n",
    "df_cell=pd.concat([df1,df2,df3])\n",
    "\n",
    "X = df_cell.drop(['label'], axis=1)\n",
    "y = df_cell['label']"
   ]
  },
  {
   "cell_type": "code",
   "execution_count": 52,
   "id": "08d57d01-dd55-412a-8365-afb9d172c804",
   "metadata": {},
   "outputs": [
    {
     "name": "stdout",
     "output_type": "stream",
     "text": [
      "Accuracy: 0.6192236598890942\n"
     ]
    }
   ],
   "source": [
    "X_train, X_test, y_train, y_test = train_test_split(X, y, test_size=0.33, random_state=42)\n",
    "cls = SVC()\n",
    "cls.fit(X_train, y_train)\n",
    "y_pred = cls.predict(X_test)\n",
    "print(\"Accuracy:\",metrics.accuracy_score(y_test, y_pred))\n"
   ]
  },
  {
   "cell_type": "markdown",
   "id": "b7b64f98-2264-452a-a075-8e4e7df9b205",
   "metadata": {},
   "source": [
    "###  hidden with jap pretrain"
   ]
  },
  {
   "cell_type": "code",
   "execution_count": 53,
   "id": "035c151b-c9b4-4eec-b957-37af3298a38e",
   "metadata": {},
   "outputs": [],
   "source": [
    "df1=pd.read_csv('metrics/jap_pretrain/hidd_ita_with_jap_pretrain.csv',index_col=0)\n",
    "df1['label']=0\n",
    "\n",
    "df2=pd.read_csv('metrics/jap_pretrain/hidd_jap_with_jap_pretrain.csv',index_col=0)\n",
    "df2['label']=0\n",
    "\n",
    "df3=pd.read_csv('metrics/jap_pretrain/hidd_spa_with_jap_pretrain.csv',index_col=0)\n",
    "df3['label']=1\n",
    "\n",
    "df_cell=pd.concat([df1,df2,df3])\n",
    "\n",
    "X = df_cell.drop(['label'], axis=1)\n",
    "y = df_cell['label']"
   ]
  },
  {
   "cell_type": "code",
   "execution_count": 55,
   "id": "930095b7-42f0-44eb-8056-632315552e39",
   "metadata": {},
   "outputs": [
    {
     "name": "stdout",
     "output_type": "stream",
     "text": [
      "Accuracy: 0.6044362292051756\n"
     ]
    }
   ],
   "source": [
    "X_train, X_test, y_train, y_test = train_test_split(X, y, test_size=0.33, random_state=42)\n",
    "cls = SVC()\n",
    "cls.fit(X_train, y_train)\n",
    "y_pred = cls.predict(X_test)\n",
    "print(\"Accuracy:\",metrics.accuracy_score(y_test, y_pred))\n"
   ]
  },
  {
   "cell_type": "markdown",
   "id": "5777075d-073f-4ba2-abe8-40984b408fe3",
   "metadata": {},
   "source": [
    "## 3 - Ita"
   ]
  },
  {
   "cell_type": "markdown",
   "id": "9eb0c46e-1790-473c-b917-ede2ec527ea0",
   "metadata": {},
   "source": [
    "### cell with ita pretrain "
   ]
  },
  {
   "cell_type": "code",
   "execution_count": 56,
   "id": "85021a57-4bff-4997-a1de-a670381884d2",
   "metadata": {},
   "outputs": [],
   "source": [
    "df1=pd.read_csv('metrics/ita_pretrain/cell_ita_with_ita_pretrain.csv',index_col=0)\n",
    "df1['label']=0\n",
    "\n",
    "df2=pd.read_csv('metrics/ita_pretrain/cell_jap_with_ita_pretrain.csv',index_col=0)\n",
    "df2['label']=0\n",
    "\n",
    "df3=pd.read_csv('metrics/ita_pretrain/cell_spa_with_ita_pretrain.csv',index_col=0)\n",
    "df3['label']=1\n",
    "\n",
    "df_cell=pd.concat([df1,df2,df3])\n",
    "\n",
    "X = df_cell.drop(['label'], axis=1)\n",
    "y = df_cell['label']"
   ]
  },
  {
   "cell_type": "code",
   "execution_count": 57,
   "id": "abb35792-44e4-4755-8be4-25b991ba02af",
   "metadata": {},
   "outputs": [
    {
     "name": "stdout",
     "output_type": "stream",
     "text": [
      "Accuracy: 0.7208872458410351\n"
     ]
    }
   ],
   "source": [
    "X_train, X_test, y_train, y_test = train_test_split(X, y, test_size=0.33, random_state=42)\n",
    "cls = SVC()\n",
    "cls.fit(X_train, y_train)\n",
    "y_pred = cls.predict(X_test)\n",
    "print(\"Accuracy:\",metrics.accuracy_score(y_test, y_pred))\n"
   ]
  },
  {
   "cell_type": "markdown",
   "id": "dd40d31c-aa68-48b9-aa90-d3d41414b9ba",
   "metadata": {},
   "source": [
    "### hidden with ita pretrain "
   ]
  },
  {
   "cell_type": "code",
   "execution_count": 58,
   "id": "9c646c4a-26ce-4c64-b281-57d83ad6e22d",
   "metadata": {},
   "outputs": [],
   "source": [
    "df1=pd.read_csv('metrics/ita_pretrain/hidd_ita_with_ita_pretrain.csv',index_col=0)\n",
    "df1['label']=0\n",
    "\n",
    "df2=pd.read_csv('metrics/ita_pretrain/hidd_jap_with_ita_pretrain.csv',index_col=0)\n",
    "df2['label']=0\n",
    "\n",
    "df3=pd.read_csv('metrics/ita_pretrain/hidd_spa_with_ita_pretrain.csv',index_col=0)\n",
    "df3['label']=1\n",
    "\n",
    "df_cell=pd.concat([df1,df2,df3])\n",
    "\n",
    "X = df_cell.drop(['label'], axis=1)\n",
    "y = df_cell['label']"
   ]
  },
  {
   "cell_type": "code",
   "execution_count": 59,
   "id": "30c3a9ea-80e7-4ba1-a4df-0e2698ba34fa",
   "metadata": {},
   "outputs": [
    {
     "name": "stdout",
     "output_type": "stream",
     "text": [
      "Accuracy: 0.7171903881700554\n"
     ]
    }
   ],
   "source": [
    "X_train, X_test, y_train, y_test = train_test_split(X, y, test_size=0.33, random_state=42)\n",
    "cls = SVC()\n",
    "cls.fit(X_train, y_train)\n",
    "y_pred = cls.predict(X_test)\n",
    "print(\"Accuracy:\",metrics.accuracy_score(y_test, y_pred))\n"
   ]
  },
  {
   "cell_type": "code",
   "execution_count": null,
   "id": "2be1fc1c-ceae-49f3-bbdb-a25fa913e663",
   "metadata": {},
   "outputs": [],
   "source": []
  }
 ],
 "metadata": {
  "kernelspec": {
   "display_name": "Python 3 (ipykernel)",
   "language": "python",
   "name": "python3"
  },
  "language_info": {
   "codemirror_mode": {
    "name": "ipython",
    "version": 3
   },
   "file_extension": ".py",
   "mimetype": "text/x-python",
   "name": "python",
   "nbconvert_exporter": "python",
   "pygments_lexer": "ipython3",
   "version": "3.9.16"
  }
 },
 "nbformat": 4,
 "nbformat_minor": 5
}
